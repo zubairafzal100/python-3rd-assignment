{
 "cells": [
  {
   "cell_type": "code",
   "execution_count": 1,
   "id": "76fba536",
   "metadata": {},
   "outputs": [
    {
     "name": "stdout",
     "output_type": "stream",
     "text": [
      "Twinkle, twinkle, little star,\n",
      "         How I wonder what you are!\n",
      "                 Up above the world so high,\n",
      "                 Like a diamond in the sky.\n",
      " Twinkle, twinkle, little star,\n",
      "         How I wonder what you are\n"
     ]
    }
   ],
   "source": [
    "# 1. Write a Python program to print the following string in a specific format (see the\n",
    "# output).\n",
    "\n",
    "print(\"Twinkle, twinkle, little star,\\n         How I wonder what you are!\\n                 Up above the world so high,\\n                 Like a diamond in the sky.\\n Twinkle, twinkle, little star,\\n         How I wonder what you are\")"
   ]
  },
  {
   "cell_type": "code",
   "execution_count": 2,
   "id": "97e7f9b1",
   "metadata": {},
   "outputs": [
    {
     "name": "stdout",
     "output_type": "stream",
     "text": [
      "3.8.8\n"
     ]
    }
   ],
   "source": [
    "# 2. Write a Python program to get the Python version you are using\n",
    "\n",
    "from platform import python_version;\n",
    "print(python_version());"
   ]
  },
  {
   "cell_type": "code",
   "execution_count": 3,
   "id": "98dce044",
   "metadata": {},
   "outputs": [
    {
     "name": "stdout",
     "output_type": "stream",
     "text": [
      "date and time = 23/10/2021 22:38:20\n"
     ]
    }
   ],
   "source": [
    "# 3. Write a Python program to display the current date and time.\n",
    "\n",
    "from datetime import datetime\n",
    "\n",
    "dt_now = datetime.now();\n",
    "today_dt = dt_now.strftime(\"%d/%m/%Y %H:%M:%S\")\n",
    "print(\"date and time =\", today_dt)\t"
   ]
  },
  {
   "cell_type": "code",
   "execution_count": 4,
   "id": "449d0a4d",
   "metadata": {},
   "outputs": [
    {
     "name": "stdout",
     "output_type": "stream",
     "text": [
      "Enter the radius of a circle: 2\n",
      "r =  2.0\n",
      "Area =  12.56\n"
     ]
    }
   ],
   "source": [
    "# 4. Write a Python program which accepts the radius of a circle from the user and compute\n",
    "# the area.\n",
    "\n",
    "from math import pi\n",
    "\n",
    "radius = float(input(\"Enter the radius of a circle: \"))\n",
    "Area = 3.14 * (radius**2)\n",
    "\n",
    "print (\"r = \", radius)\n",
    "\n",
    "print (\"Area = \" , Area)"
   ]
  },
  {
   "cell_type": "code",
   "execution_count": 5,
   "id": "83e2d9ba",
   "metadata": {},
   "outputs": [
    {
     "name": "stdout",
     "output_type": "stream",
     "text": [
      "Enter your first name: Zubair\n",
      "Enter your last name: Afzal\n",
      "riabuZ lazfA\n"
     ]
    }
   ],
   "source": [
    "# 5. Write a Python program which accepts the user's first and last name and print them in\n",
    "# reverse order with a space between them.\n",
    "\n",
    "fName = input(\"Enter your first name: \")[::-1];\n",
    "lName = input(\"Enter your last name: \")[::-1];\n",
    "\n",
    "fullName = fName + \" \" + lName;\n",
    "\n",
    "print(fullName);"
   ]
  },
  {
   "cell_type": "code",
   "execution_count": 6,
   "id": "d0f66dcb",
   "metadata": {},
   "outputs": [
    {
     "name": "stdout",
     "output_type": "stream",
     "text": [
      "Enter first number30\n",
      "Enter second number46\n",
      "76\n"
     ]
    }
   ],
   "source": [
    "# 6. Write a python program which takes two inputs from user and print them addition\n",
    "\n",
    "num1 = int(input(\"Enter first number\"));\n",
    "num2 = int(input(\"Enter second number\"));\n",
    "sum = num1 + num2;\n",
    "\n",
    "print(sum);"
   ]
  },
  {
   "cell_type": "code",
   "execution_count": 7,
   "id": "de0cc8df",
   "metadata": {},
   "outputs": [
    {
     "name": "stdout",
     "output_type": "stream",
     "text": [
      "Enter your english marks: 87\n",
      "Enter your islamiat marks: 99\n",
      "Enter your maths marks: 78\n",
      "Enter your physics marks: 67\n",
      "Enter your chemistry marks: 59\n",
      "78.0\n",
      "Grade A\n"
     ]
    }
   ],
   "source": [
    "# 7. Write a program which takes 5 inputs from user for different subject’s marks, total it\n",
    "# and generate mark sheet using grades ?\n",
    "\n",
    "eng_marks = int(input(\"Enter your english marks: \"));\n",
    "isl_marks = int(input(\"Enter your islamiat marks: \"));\n",
    "math_marks = int(input(\"Enter your maths marks: \"));\n",
    "phy_marks = int(input(\"Enter your physics marks: \"));\n",
    "chem_marks = int(input(\"Enter your chemistry marks: \"));\n",
    "obtained_marks = eng_marks + isl_marks + math_marks + phy_marks + chem_marks;\n",
    "total_marks = 500;\n",
    "perc = obtained_marks/total_marks * 100;\n",
    "\n",
    "print(perc);\n",
    "\n",
    "if perc > 100:\n",
    "    print(\"Please enter a range between 0-100\");\n",
    "    \n",
    "elif perc >= 81 and perc <= 100:\n",
    "    print(\"Grade A+\");\n",
    "    \n",
    "elif perc >= 71 and perc <= 80:\n",
    "    print(\"Grade A\");\n",
    "    \n",
    "elif perc >= 61 and perc <= 70:\n",
    "    print(\"Grade B\");\n",
    "    \n",
    "elif perc >= 51 and perc <= 60:\n",
    "    print(\"Grade C\");\n",
    "    \n",
    "elif perc >= 41 and perc <= 50:\n",
    "    print(\"Grade D\");\n",
    "    \n",
    "elif perc >= 33 and perc <= 40:\n",
    "    print(\"Grade E\");\n",
    "    \n",
    "elif perc < 33 and perc > 0:\n",
    "    print(\"Fail\");\n",
    "    \n",
    "elif perc < 0:\n",
    "    print(\"You did not enter the appropriate percentage value\")\n",
    "    \n",
    "else:\n",
    "    print(\"Please enter your percentage\");"
   ]
  },
  {
   "cell_type": "code",
   "execution_count": 8,
   "id": "c66f0ab1",
   "metadata": {},
   "outputs": [
    {
     "name": "stdout",
     "output_type": "stream",
     "text": [
      "Please Enter a Number: 66\n",
      "This Number is Even\n"
     ]
    }
   ],
   "source": [
    "# 8. Write a program which take input from user and identify that the given number is even\n",
    "# or odd?\n",
    "\n",
    "num = int(input(\"Please Enter a Number: \"));\n",
    "if(num&1==1):\n",
    "    print(\"This Number is Odd\")\n",
    "else:\n",
    "    print(\"This Number is Even\")"
   ]
  },
  {
   "cell_type": "code",
   "execution_count": 9,
   "id": "bd7a42f0",
   "metadata": {},
   "outputs": [
    {
     "name": "stdout",
     "output_type": "stream",
     "text": [
      "9\n"
     ]
    }
   ],
   "source": [
    "# 9. Write a program which print the length of the list?\n",
    "\n",
    "arr = [1, 2, 3, 4, 5, 6, 7, 8, 9];\n",
    "length = len(arr);\n",
    "\n",
    "print(length);"
   ]
  },
  {
   "cell_type": "code",
   "execution_count": 10,
   "id": "fe6ed329",
   "metadata": {},
   "outputs": [
    {
     "name": "stdout",
     "output_type": "stream",
     "text": [
      "24\n"
     ]
    }
   ],
   "source": [
    "# 10.Write a Python program to sum all the numeric items in a list?\n",
    "\n",
    "\n",
    "list = [1,2,3,4,5,9]\n",
    "sum = 0\n",
    "\n",
    "for i in range(len(list)):\n",
    "    sum += list[i]\n",
    "\n",
    "print(sum)"
   ]
  },
  {
   "cell_type": "code",
   "execution_count": 11,
   "id": "c75798d5",
   "metadata": {},
   "outputs": [
    {
     "name": "stdout",
     "output_type": "stream",
     "text": [
      "Largest element is: 103\n"
     ]
    }
   ],
   "source": [
    "# 11.Write a Python program to get the largest number from a numeric list.\n",
    "\n",
    "list1 = [10, 20, 4, 45, 99, 103];\n",
    "print(\"Largest element is:\", max(list1))"
   ]
  },
  {
   "cell_type": "code",
   "execution_count": 12,
   "id": "74a60cfb",
   "metadata": {},
   "outputs": [
    {
     "name": "stdout",
     "output_type": "stream",
     "text": [
      "1\n",
      "1\n",
      "2\n",
      "3\n",
      "4\n"
     ]
    }
   ],
   "source": [
    "# 12. Take a list, say for example this one:\n",
    "# a = [1, 1, 2, 3, 5, 8, 13, 21, 34, 55, 89]\n",
    "# Write a program that prints out all the elements of the list that are less than 5.\n",
    "\n",
    "a = [1, 1, 2, 3, 4, 5, 8, 13, 21, 34, 55, 89]\n",
    "for i in a:\n",
    "    if i < 5:\n",
    "        print(i)"
   ]
  },
  {
   "cell_type": "code",
   "execution_count": null,
   "id": "d6e1d69a",
   "metadata": {},
   "outputs": [],
   "source": []
  }
 ],
 "metadata": {
  "kernelspec": {
   "display_name": "Python 3",
   "language": "python",
   "name": "python3"
  },
  "language_info": {
   "codemirror_mode": {
    "name": "ipython",
    "version": 3
   },
   "file_extension": ".py",
   "mimetype": "text/x-python",
   "name": "python",
   "nbconvert_exporter": "python",
   "pygments_lexer": "ipython3",
   "version": "3.8.8"
  }
 },
 "nbformat": 4,
 "nbformat_minor": 5
}
